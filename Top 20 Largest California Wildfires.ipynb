{
 "cells": [
  {
   "cell_type": "code",
   "execution_count": 1,
   "metadata": {
    "_cell_guid": "79c7e3d0-c299-4dcb-8224-4455121ee9b0",
    "_uuid": "d629ff2d2480ee46fbb7e2d37f6b5fab8052498a"
   },
   "outputs": [],
   "source": [
    "import numpy as np\n",
    "import pandas as pd\n",
    "import matplotlib.pyplot as plt\n",
    "import seaborn as sns\n",
    "%matplotlib inline\n",
    "\n",
    "sns.set(style=\"darkgrid\")"
   ]
  },
  {
   "cell_type": "markdown",
   "metadata": {},
   "source": [
    "# Loading data and small data explore"
   ]
  },
  {
   "cell_type": "code",
   "execution_count": 2,
   "metadata": {},
   "outputs": [],
   "source": [
    "df_ = pd.read_csv('data/top_20_CA_wildfires.csv')\n",
    "df = df_.copy()"
   ]
  },
  {
   "cell_type": "code",
   "execution_count": 3,
   "metadata": {},
   "outputs": [
    {
     "data": {
      "text/html": [
       "<div>\n",
       "<style scoped>\n",
       "    .dataframe tbody tr th:only-of-type {\n",
       "        vertical-align: middle;\n",
       "    }\n",
       "\n",
       "    .dataframe tbody tr th {\n",
       "        vertical-align: top;\n",
       "    }\n",
       "\n",
       "    .dataframe thead th {\n",
       "        text-align: right;\n",
       "    }\n",
       "</style>\n",
       "<table border=\"1\" class=\"dataframe\">\n",
       "  <thead>\n",
       "    <tr style=\"text-align: right;\">\n",
       "      <th></th>\n",
       "      <th>fire_name</th>\n",
       "      <th>cause</th>\n",
       "      <th>month</th>\n",
       "      <th>year</th>\n",
       "      <th>county</th>\n",
       "      <th>acres</th>\n",
       "      <th>structures</th>\n",
       "      <th>deaths</th>\n",
       "    </tr>\n",
       "  </thead>\n",
       "  <tbody>\n",
       "    <tr>\n",
       "      <th>0</th>\n",
       "      <td>Mendocino Complex</td>\n",
       "      <td>Under Investigation</td>\n",
       "      <td>July</td>\n",
       "      <td>2018</td>\n",
       "      <td>Colusa County, Lake County, Mendocino County &amp;...</td>\n",
       "      <td>459123</td>\n",
       "      <td>280</td>\n",
       "      <td>1</td>\n",
       "    </tr>\n",
       "    <tr>\n",
       "      <th>1</th>\n",
       "      <td>Thomas</td>\n",
       "      <td>Powerlines</td>\n",
       "      <td>December</td>\n",
       "      <td>2017</td>\n",
       "      <td>Ventura &amp; Santa Barbara</td>\n",
       "      <td>281893</td>\n",
       "      <td>1063</td>\n",
       "      <td>2</td>\n",
       "    </tr>\n",
       "    <tr>\n",
       "      <th>2</th>\n",
       "      <td>Cedar</td>\n",
       "      <td>Human Related</td>\n",
       "      <td>October</td>\n",
       "      <td>2003</td>\n",
       "      <td>San Diego</td>\n",
       "      <td>273246</td>\n",
       "      <td>2820</td>\n",
       "      <td>15</td>\n",
       "    </tr>\n",
       "    <tr>\n",
       "      <th>3</th>\n",
       "      <td>Rush</td>\n",
       "      <td>Lightning</td>\n",
       "      <td>August</td>\n",
       "      <td>2012</td>\n",
       "      <td>Lassen</td>\n",
       "      <td>271911</td>\n",
       "      <td>0</td>\n",
       "      <td>0</td>\n",
       "    </tr>\n",
       "    <tr>\n",
       "      <th>4</th>\n",
       "      <td>Rim</td>\n",
       "      <td>Human Related</td>\n",
       "      <td>August</td>\n",
       "      <td>2013</td>\n",
       "      <td>Tuolumne</td>\n",
       "      <td>257314</td>\n",
       "      <td>112</td>\n",
       "      <td>0</td>\n",
       "    </tr>\n",
       "  </tbody>\n",
       "</table>\n",
       "</div>"
      ],
      "text/plain": [
       "           fire_name                cause     month  year  \\\n",
       "0  Mendocino Complex  Under Investigation      July  2018   \n",
       "1             Thomas           Powerlines  December  2017   \n",
       "2              Cedar        Human Related   October  2003   \n",
       "3               Rush            Lightning    August  2012   \n",
       "4                Rim        Human Related    August  2013   \n",
       "\n",
       "                                              county   acres  structures  \\\n",
       "0  Colusa County, Lake County, Mendocino County &...  459123         280   \n",
       "1                            Ventura & Santa Barbara  281893        1063   \n",
       "2                                          San Diego  273246        2820   \n",
       "3                                             Lassen  271911           0   \n",
       "4                                           Tuolumne  257314         112   \n",
       "\n",
       "   deaths  \n",
       "0       1  \n",
       "1       2  \n",
       "2      15  \n",
       "3       0  \n",
       "4       0  "
      ]
     },
     "execution_count": 3,
     "metadata": {},
     "output_type": "execute_result"
    }
   ],
   "source": [
    "df.head()"
   ]
  },
  {
   "cell_type": "code",
   "execution_count": 4,
   "metadata": {},
   "outputs": [
    {
     "data": {
      "text/html": [
       "<div>\n",
       "<style scoped>\n",
       "    .dataframe tbody tr th:only-of-type {\n",
       "        vertical-align: middle;\n",
       "    }\n",
       "\n",
       "    .dataframe tbody tr th {\n",
       "        vertical-align: top;\n",
       "    }\n",
       "\n",
       "    .dataframe thead th {\n",
       "        text-align: right;\n",
       "    }\n",
       "</style>\n",
       "<table border=\"1\" class=\"dataframe\">\n",
       "  <thead>\n",
       "    <tr style=\"text-align: right;\">\n",
       "      <th></th>\n",
       "      <th>fire_name</th>\n",
       "      <th>cause</th>\n",
       "      <th>month</th>\n",
       "      <th>year</th>\n",
       "      <th>county</th>\n",
       "      <th>acres</th>\n",
       "      <th>structures</th>\n",
       "      <th>deaths</th>\n",
       "    </tr>\n",
       "  </thead>\n",
       "  <tbody>\n",
       "    <tr>\n",
       "      <th>15</th>\n",
       "      <td>Camp Fire</td>\n",
       "      <td>Powerlines</td>\n",
       "      <td>November</td>\n",
       "      <td>2018</td>\n",
       "      <td>Butte</td>\n",
       "      <td>153336</td>\n",
       "      <td>18804</td>\n",
       "      <td>85</td>\n",
       "    </tr>\n",
       "    <tr>\n",
       "      <th>16</th>\n",
       "      <td>Rough</td>\n",
       "      <td>Lightning</td>\n",
       "      <td>July</td>\n",
       "      <td>2015</td>\n",
       "      <td>Fresno</td>\n",
       "      <td>151623</td>\n",
       "      <td>4</td>\n",
       "      <td>0</td>\n",
       "    </tr>\n",
       "    <tr>\n",
       "      <th>17</th>\n",
       "      <td>Mcnally</td>\n",
       "      <td>Human Related</td>\n",
       "      <td>July</td>\n",
       "      <td>2002</td>\n",
       "      <td>Tulare</td>\n",
       "      <td>150696</td>\n",
       "      <td>17</td>\n",
       "      <td>0</td>\n",
       "    </tr>\n",
       "    <tr>\n",
       "      <th>18</th>\n",
       "      <td>Stanislaus Complex</td>\n",
       "      <td>Lightning</td>\n",
       "      <td>August</td>\n",
       "      <td>1987</td>\n",
       "      <td>Tuolumne</td>\n",
       "      <td>145980</td>\n",
       "      <td>28</td>\n",
       "      <td>1</td>\n",
       "    </tr>\n",
       "    <tr>\n",
       "      <th>19</th>\n",
       "      <td>Big Bar Complex</td>\n",
       "      <td>Lightning</td>\n",
       "      <td>August</td>\n",
       "      <td>1999</td>\n",
       "      <td>Trinity</td>\n",
       "      <td>140948</td>\n",
       "      <td>0</td>\n",
       "      <td>0</td>\n",
       "    </tr>\n",
       "  </tbody>\n",
       "</table>\n",
       "</div>"
      ],
      "text/plain": [
       "             fire_name          cause     month  year    county   acres  \\\n",
       "15           Camp Fire     Powerlines  November  2018     Butte  153336   \n",
       "16               Rough      Lightning      July  2015    Fresno  151623   \n",
       "17             Mcnally  Human Related      July  2002    Tulare  150696   \n",
       "18  Stanislaus Complex      Lightning    August  1987  Tuolumne  145980   \n",
       "19     Big Bar Complex      Lightning    August  1999   Trinity  140948   \n",
       "\n",
       "    structures  deaths  \n",
       "15       18804      85  \n",
       "16           4       0  \n",
       "17          17       0  \n",
       "18          28       1  \n",
       "19           0       0  "
      ]
     },
     "execution_count": 4,
     "metadata": {},
     "output_type": "execute_result"
    }
   ],
   "source": [
    "df.tail()"
   ]
  },
  {
   "cell_type": "code",
   "execution_count": 5,
   "metadata": {},
   "outputs": [
    {
     "name": "stdout",
     "output_type": "stream",
     "text": [
      "<class 'pandas.core.frame.DataFrame'>\n",
      "RangeIndex: 20 entries, 0 to 19\n",
      "Data columns (total 8 columns):\n",
      " #   Column      Non-Null Count  Dtype \n",
      "---  ------      --------------  ----- \n",
      " 0   fire_name   20 non-null     object\n",
      " 1   cause       20 non-null     object\n",
      " 2   month       20 non-null     object\n",
      " 3   year        20 non-null     int64 \n",
      " 4   county      20 non-null     object\n",
      " 5   acres       20 non-null     int64 \n",
      " 6   structures  20 non-null     int64 \n",
      " 7   deaths      20 non-null     int64 \n",
      "dtypes: int64(4), object(4)\n",
      "memory usage: 1.4+ KB\n"
     ]
    }
   ],
   "source": [
    "df.info()"
   ]
  },
  {
   "cell_type": "code",
   "execution_count": 6,
   "metadata": {},
   "outputs": [
    {
     "data": {
      "text/html": [
       "<div>\n",
       "<style scoped>\n",
       "    .dataframe tbody tr th:only-of-type {\n",
       "        vertical-align: middle;\n",
       "    }\n",
       "\n",
       "    .dataframe tbody tr th {\n",
       "        vertical-align: top;\n",
       "    }\n",
       "\n",
       "    .dataframe thead th {\n",
       "        text-align: right;\n",
       "    }\n",
       "</style>\n",
       "<table border=\"1\" class=\"dataframe\">\n",
       "  <thead>\n",
       "    <tr style=\"text-align: right;\">\n",
       "      <th></th>\n",
       "      <th>year</th>\n",
       "      <th>acres</th>\n",
       "      <th>structures</th>\n",
       "      <th>deaths</th>\n",
       "    </tr>\n",
       "  </thead>\n",
       "  <tbody>\n",
       "    <tr>\n",
       "      <th>count</th>\n",
       "      <td>20.000000</td>\n",
       "      <td>20.000000</td>\n",
       "      <td>20.00000</td>\n",
       "      <td>20.000000</td>\n",
       "    </tr>\n",
       "    <tr>\n",
       "      <th>mean</th>\n",
       "      <td>2001.300000</td>\n",
       "      <td>210266.200000</td>\n",
       "      <td>1352.65000</td>\n",
       "      <td>6.150000</td>\n",
       "    </tr>\n",
       "    <tr>\n",
       "      <th>std</th>\n",
       "      <td>20.956346</td>\n",
       "      <td>75150.676664</td>\n",
       "      <td>4178.21521</td>\n",
       "      <td>18.918871</td>\n",
       "    </tr>\n",
       "    <tr>\n",
       "      <th>min</th>\n",
       "      <td>1932.000000</td>\n",
       "      <td>140948.000000</td>\n",
       "      <td>0.00000</td>\n",
       "      <td>0.000000</td>\n",
       "    </tr>\n",
       "    <tr>\n",
       "      <th>25%</th>\n",
       "      <td>2001.250000</td>\n",
       "      <td>158751.750000</td>\n",
       "      <td>0.75000</td>\n",
       "      <td>0.000000</td>\n",
       "    </tr>\n",
       "    <tr>\n",
       "      <th>50%</th>\n",
       "      <td>2007.500000</td>\n",
       "      <td>184952.000000</td>\n",
       "      <td>43.00000</td>\n",
       "      <td>0.500000</td>\n",
       "    </tr>\n",
       "    <tr>\n",
       "      <th>75%</th>\n",
       "      <td>2013.500000</td>\n",
       "      <td>244483.750000</td>\n",
       "      <td>552.25000</td>\n",
       "      <td>2.000000</td>\n",
       "    </tr>\n",
       "    <tr>\n",
       "      <th>max</th>\n",
       "      <td>2018.000000</td>\n",
       "      <td>459123.000000</td>\n",
       "      <td>18804.00000</td>\n",
       "      <td>85.000000</td>\n",
       "    </tr>\n",
       "  </tbody>\n",
       "</table>\n",
       "</div>"
      ],
      "text/plain": [
       "              year          acres   structures     deaths\n",
       "count    20.000000      20.000000     20.00000  20.000000\n",
       "mean   2001.300000  210266.200000   1352.65000   6.150000\n",
       "std      20.956346   75150.676664   4178.21521  18.918871\n",
       "min    1932.000000  140948.000000      0.00000   0.000000\n",
       "25%    2001.250000  158751.750000      0.75000   0.000000\n",
       "50%    2007.500000  184952.000000     43.00000   0.500000\n",
       "75%    2013.500000  244483.750000    552.25000   2.000000\n",
       "max    2018.000000  459123.000000  18804.00000  85.000000"
      ]
     },
     "execution_count": 6,
     "metadata": {},
     "output_type": "execute_result"
    }
   ],
   "source": [
    "df.describe()"
   ]
  },
  {
   "cell_type": "code",
   "execution_count": 7,
   "metadata": {},
   "outputs": [
    {
     "data": {
      "text/plain": [
       "array(['July', 'December', 'October', 'August', 'September', 'June',\n",
       "       'November'], dtype=object)"
      ]
     },
     "execution_count": 7,
     "metadata": {},
     "output_type": "execute_result"
    }
   ],
   "source": [
    "df['month'].unique()"
   ]
  },
  {
   "cell_type": "code",
   "execution_count": 8,
   "metadata": {},
   "outputs": [
    {
     "data": {
      "text/plain": [
       "7"
      ]
     },
     "execution_count": 8,
     "metadata": {},
     "output_type": "execute_result"
    }
   ],
   "source": [
    "df['month'].nunique()"
   ]
  },
  {
   "cell_type": "code",
   "execution_count": 9,
   "metadata": {},
   "outputs": [
    {
     "data": {
      "text/plain": [
       "array(['Under Investigation', 'Powerlines', 'Human Related', 'Lightning',\n",
       "       'Undetermined'], dtype=object)"
      ]
     },
     "execution_count": 9,
     "metadata": {},
     "output_type": "execute_result"
    }
   ],
   "source": [
    "df['cause'].unique()"
   ]
  },
  {
   "cell_type": "markdown",
   "metadata": {},
   "source": [
    "# Data visualization"
   ]
  },
  {
   "cell_type": "code",
   "execution_count": 10,
   "metadata": {},
   "outputs": [],
   "source": [
    "'''\n",
    "Helper functions\n",
    "'''\n",
    "def create_df(data, columns):\n",
    "    return pd.DataFrame(data=data, columns=columns)\n",
    "\n",
    "def barplot(x, y, data, columns):\n",
    "    plt.figure(figsize=(15, 7))\n",
    "    return sns.barplot(x=x, y=y, data=create_df(data, columns))\n",
    "\n",
    "def lineplot(x, y, data, columns):\n",
    "    plt.figure(figsize=(15, 7))\n",
    "    return sns.lineplot(x=x, y=y, data=create_df(data, columns))"
   ]
  },
  {
   "cell_type": "code",
   "execution_count": 11,
   "metadata": {},
   "outputs": [],
   "source": [
    "months = ['January', 'February', 'March', 'April', 'May', 'June', 'July',\n",
    "          'August', 'September', 'October', 'November', 'December']\n",
    "per_month = np.zeros((len(months)))\n",
    "\n",
    "for i, month in enumerate(months):\n",
    "    per_month[i] = df.loc[df['month'] == month].shape[0]"
   ]
  },
  {
   "cell_type": "code",
   "execution_count": 12,
   "metadata": {},
   "outputs": [
    {
     "data": {
      "text/plain": [
       "<matplotlib.axes._subplots.AxesSubplot at 0x7f2a399fd950>"
      ]
     },
     "execution_count": 12,
     "metadata": {},
     "output_type": "execute_result"
    },
    {
     "data": {
      "image/png": "[encoded data removed]",
      "text/plain": [
       "<Figure size 1080x504 with 1 Axes>"
      ]
     },
     "metadata": {},
     "output_type": "display_data"
    }
   ],
   "source": [
    "barplot(x='Month', y='Count', data=np.c_[months, per_month], columns=['Month', 'Count'])"
   ]
  },
  {
   "cell_type": "code",
   "execution_count": 13,
   "metadata": {},
   "outputs": [],
   "source": [
    "years = df['year'].unique() # get all unique years\n",
    "'''\n",
    "We will use bubble sort because it is easey to implement and in our small amount of data O(n^2) is not big\n",
    "'''\n",
    "for i in range(years.shape[0]):\n",
    "    for j in range(years.shape[0] - 1):\n",
    "        if years[j] > years[j+1]:\n",
    "            years[j], years[j+1] = years[j+1], years[j]"
   ]
  },
  {
   "cell_type": "code",
   "execution_count": 14,
   "metadata": {},
   "outputs": [],
   "source": [
    "per_year = np.zeros((years.shape[0]))\n",
    "\n",
    "for i, year in enumerate(years):\n",
    "    per_year[i] = df.loc[df['year'] == year].shape[0]"
   ]
  },
  {
   "cell_type": "code",
   "execution_count": 15,
   "metadata": {},
   "outputs": [
    {
     "data": {
      "text/plain": [
       "<matplotlib.axes._subplots.AxesSubplot at 0x7f2a36ef31d0>"
      ]
     },
     "execution_count": 15,
     "metadata": {},
     "output_type": "execute_result"
    },
    {
     "data": {
      "image/png": "[encoded data removed]",
      "text/plain": [
       "<Figure size 1080x504 with 1 Axes>"
      ]
     },
     "metadata": {},
     "output_type": "display_data"
    }
   ],
   "source": [
    "barplot(x='Year', y='Count', data=np.c_[years.astype(str), per_year], columns=['Year', 'Count'])"
   ]
  },
  {
   "cell_type": "code",
   "execution_count": 16,
   "metadata": {},
   "outputs": [],
   "source": [
    "total_per_year = np.zeros((years.shape[0]))\n",
    "total_per_year[0] = per_year[0]\n",
    "\n",
    "for i in range(1, per_year.shape[0]):\n",
    "    total_per_year[i] = total_per_year[i - 1] + per_year[i]"
   ]
  },
  {
   "cell_type": "code",
   "execution_count": 17,
   "metadata": {},
   "outputs": [
    {
     "data": {
      "text/plain": [
       "(1932, 2018)"
      ]
     },
     "execution_count": 17,
     "metadata": {},
     "output_type": "execute_result"
    }
   ],
   "source": [
    "df['year'].min(), df['year'].max()"
   ]
  },
  {
   "cell_type": "code",
   "execution_count": 18,
   "metadata": {},
   "outputs": [
    {
     "data": {
      "text/plain": [
       "[[<matplotlib.axis.XTick at 0x7f2a37051ed0>,\n",
       "  <matplotlib.axis.XTick at 0x7f2a37051e90>,\n",
       "  <matplotlib.axis.XTick at 0x7f2a3703f8d0>,\n",
       "  <matplotlib.axis.XTick at 0x7f2a37016550>,\n",
       "  <matplotlib.axis.XTick at 0x7f2a37016910>,\n",
       "  <matplotlib.axis.XTick at 0x7f2a37016e50>,\n",
       "  <matplotlib.axis.XTick at 0x7f2a3701d410>,\n",
       "  <matplotlib.axis.XTick at 0x7f2a37051a50>,\n",
       "  <matplotlib.axis.XTick at 0x7f2a36ffc050>,\n",
       "  <matplotlib.axis.XTick at 0x7f2a37034310>]]"
      ]
     },
     "execution_count": 18,
     "metadata": {},
     "output_type": "execute_result"
    },
    {
     "data": {
      "image/png": "[encoded data removed]",
      "text/plain": [
       "<Figure size 1080x504 with 1 Axes>"
      ]
     },
     "metadata": {},
     "output_type": "display_data"
    }
   ],
   "source": [
    "lineplot(x='Year', y='Total count', data=np.c_[years, total_per_year], columns=['Year', 'Total count']).set(xticks=np.arange(1930, 2030, 10))"
   ]
  },
  {
   "cell_type": "code",
   "execution_count": 19,
   "metadata": {},
   "outputs": [],
   "source": [
    "causes = df['cause'].unique()\n",
    "deaths_per_cause = np.zeros(causes.shape)\n",
    "\n",
    "for i, cause in enumerate(causes):\n",
    "    deaths_per_cause[i] = df[df['cause'] == cause]['deaths'].values.sum() * 100 / df['deaths'].values.sum()"
   ]
  },
  {
   "cell_type": "code",
   "execution_count": 20,
   "metadata": {},
   "outputs": [
    {
     "data": {
      "text/plain": [
       "[Text(0, 0.5, 'Deaths [%]')]"
      ]
     },
     "execution_count": 20,
     "metadata": {},
     "output_type": "execute_result"
    },
    {
     "data": {
      "image/png": "[encoded data removed]",
      "text/plain": [
       "<Figure size 1080x504 with 1 Axes>"
      ]
     },
     "metadata": {},
     "output_type": "display_data"
    }
   ],
   "source": [
    "barplot(x='Cause', y='Deaths', data=np.c_[causes, deaths_per_cause], columns=['Cause', 'Deaths']).set(ylabel='Deaths [%]')"
   ]
  },
  {
   "cell_type": "code",
   "execution_count": 21,
   "metadata": {},
   "outputs": [],
   "source": [
    "acres_burned_by_cause = np.zeros(causes.shape)\n",
    "\n",
    "for i, cause in enumerate(causes):\n",
    "    acres_burned_by_cause[i] = df.loc[df['cause'] == cause]['acres'].values.sum()"
   ]
  },
  {
   "cell_type": "code",
   "execution_count": 22,
   "metadata": {},
   "outputs": [
    {
     "data": {
      "text/plain": [
       "<matplotlib.axes._subplots.AxesSubplot at 0x7f2a36fb1290>"
      ]
     },
     "execution_count": 22,
     "metadata": {},
     "output_type": "execute_result"
    },
    {
     "data": {
      "image/png": "[encoded data removed]",
      "text/plain": [
       "<Figure size 1080x504 with 1 Axes>"
      ]
     },
     "metadata": {},
     "output_type": "display_data"
    }
   ],
   "source": [
    "barplot(x='Cause', y='Acres', data=np.c_[causes, acres_burned_by_cause], columns=['Cause', 'Acres'])"
   ]
  },
  {
   "cell_type": "code",
   "execution_count": 23,
   "metadata": {},
   "outputs": [],
   "source": [
    "acres_per_year = np.zeros(years.shape)\n",
    "\n",
    "for i, year in enumerate(years):\n",
    "    acres_per_year[i] = df.loc[df['year'] == year]['acres'].values.sum()"
   ]
  },
  {
   "cell_type": "code",
   "execution_count": 24,
   "metadata": {},
   "outputs": [
    {
     "data": {
      "text/plain": [
       "<matplotlib.axes._subplots.AxesSubplot at 0x7f2a39915750>"
      ]
     },
     "execution_count": 24,
     "metadata": {},
     "output_type": "execute_result"
    },
    {
     "data": {
      "image/png": "[encoded data removed]",
      "text/plain": [
       "<Figure size 1080x504 with 1 Axes>"
      ]
     },
     "metadata": {},
     "output_type": "display_data"
    }
   ],
   "source": [
    "barplot(x='Year', y='Acres burned', data=np.c_[years.astype(str), acres_per_year], columns=['Year', 'Acres burned'])"
   ]
  },
  {
   "cell_type": "code",
   "execution_count": 25,
   "metadata": {},
   "outputs": [],
   "source": [
    "total_acres = np.zeros(years.shape)\n",
    "total_acres[0] = acres_per_year[0]\n",
    "\n",
    "for i in range(1, acres_per_year.shape[0]):\n",
    "    total_acres[i] = total_acres[i-1] + acres_per_year[i]"
   ]
  },
  {
   "cell_type": "code",
   "execution_count": 26,
   "metadata": {},
   "outputs": [
    {
     "data": {
      "text/plain": [
       "[[<matplotlib.axis.XTick at 0x7f2a3712ae10>,\n",
       "  <matplotlib.axis.XTick at 0x7f2a3712a2d0>,\n",
       "  <matplotlib.axis.XTick at 0x7f2a36bf0290>,\n",
       "  <matplotlib.axis.XTick at 0x7f2a36c0e2d0>,\n",
       "  <matplotlib.axis.XTick at 0x7f2a36c16550>,\n",
       "  <matplotlib.axis.XTick at 0x7f2a36c16a90>,\n",
       "  <matplotlib.axis.XTick at 0x7f2a36c16190>,\n",
       "  <matplotlib.axis.XTick at 0x7f2a36c60dd0>,\n",
       "  <matplotlib.axis.XTick at 0x7f2a36c00b50>,\n",
       "  <matplotlib.axis.XTick at 0x7f2a36c2d710>]]"
      ]
     },
     "execution_count": 26,
     "metadata": {},
     "output_type": "execute_result"
    },
    {
     "data": {
      "image/png": "[encoded data removed]",
      "text/plain": [
       "<Figure size 1080x504 with 1 Axes>"
      ]
     },
     "metadata": {},
     "output_type": "display_data"
    }
   ],
   "source": [
    "lineplot(x='Year', y='Total acres burned', data=np.c_[years, total_acres], columns=['Year', 'Total acres burned']).set(xticks=np.arange(1930, 2030, 10))"
   ]
  }
 ],
 "metadata": {
  "kernelspec": {
   "display_name": "Python 3",
   "language": "python",
   "name": "python3"
  },
  "language_info": {
   "codemirror_mode": {
    "name": "ipython",
    "version": 3
   },
   "file_extension": ".py",
   "mimetype": "text/x-python",
   "name": "python",
   "nbconvert_exporter": "python",
   "pygments_lexer": "ipython3",
   "version": "3.7.5"
  }
 },
 "nbformat": 4,
 "nbformat_minor": 4
}
